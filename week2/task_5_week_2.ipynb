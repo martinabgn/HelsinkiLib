{
 "cells": [
  {
   "cell_type": "code",
   "execution_count": 51,
   "id": "7e9e24a1-1bb1-4ea3-ac74-bbc2711e0a0b",
   "metadata": {},
   "outputs": [
    {
     "name": "stdout",
     "output_type": "stream",
     "text": [
      "Requirement already satisfied: requests in c:\\users\\asus\\anaconda3\\lib\\site-packages (2.32.2)\n",
      "Requirement already satisfied: beautifulsoup4 in c:\\users\\asus\\anaconda3\\lib\\site-packages (4.12.3)\n",
      "Requirement already satisfied: charset-normalizer<4,>=2 in c:\\users\\asus\\anaconda3\\lib\\site-packages (from requests) (2.0.4)\n",
      "Requirement already satisfied: idna<4,>=2.5 in c:\\users\\asus\\anaconda3\\lib\\site-packages (from requests) (3.7)\n",
      "Requirement already satisfied: urllib3<3,>=1.21.1 in c:\\users\\asus\\anaconda3\\lib\\site-packages (from requests) (2.2.2)\n",
      "Requirement already satisfied: certifi>=2017.4.17 in c:\\users\\asus\\anaconda3\\lib\\site-packages (from requests) (2024.8.30)\n",
      "Requirement already satisfied: soupsieve>1.2 in c:\\users\\asus\\anaconda3\\lib\\site-packages (from beautifulsoup4) (2.5)\n",
      "Note: you may need to restart the kernel to use updated packages.\n"
     ]
    }
   ],
   "source": [
    "pip install requests beautifulsoup4"
   ]
  },
  {
   "cell_type": "code",
   "execution_count": 209,
   "id": "2d6b6e73-f04e-4d35-b1c4-ef5dffa93213",
   "metadata": {},
   "outputs": [],
   "source": [
    "import pandas as pd\n",
    "from sklearn.feature_extraction.text import CountVectorizer\n"
   ]
  },
  {
   "cell_type": "code",
   "execution_count": 211,
   "id": "8c9a5b56-b360-4d40-84ce-74bee70aa8a9",
   "metadata": {},
   "outputs": [],
   "source": [
    "import requests\n",
    "def load_documents(file_url):\n",
    "    # Fetch the text content from the URL\n",
    "    response = requests.get(file_url)\n",
    "    if response.status_code == 200:\n",
    "        text = response.text\n",
    "    else:\n",
    "        raise Exception(f\"Failed to fetch the file. Status code: {response.status_code}\")\n",
    "    return text"
   ]
  },
  {
   "cell_type": "code",
   "execution_count": 213,
   "id": "1b8b94b7-6457-43b0-822c-fd640d6e05e6",
   "metadata": {},
   "outputs": [
    {
     "name": "stdout",
     "output_type": "stream",
     "text": [
      "<article name=\"Anarchism\">\n",
      "Anarchism is a political philosophy that advocates self-governed societies based on voluntary institutions. These are often described as stateless societies, although severa\n"
     ]
    }
   ],
   "source": [
    "file_url = \"https://raw.githubusercontent.com/martinabgn/HelsinkiLib/week2/enwiki-20181001-corpus.1000-articles.txt\"\n",
    "text = load_documents(file_url)\n",
    "print(text[:200])"
   ]
  },
  {
   "cell_type": "code",
   "execution_count": 214,
   "id": "ffba9227-2f4e-4951-b00b-37d2c550d270",
   "metadata": {},
   "outputs": [],
   "source": [
    "from bs4 import BeautifulSoup\n",
    "def split_article(text):\n",
    "    # Split the text based on the <article> tag using BeautifulSoup\n",
    "    soup = BeautifulSoup(text, 'html.parser')\n",
    "    articles = soup.find_all('article')\n",
    "    article_dict = {}\n",
    "    article_index= {}\n",
    "    for article in articles:\n",
    "        name = article.get(\"name\")\n",
    "        content = article.text.strip()  # Strip excess whitespace\n",
    "        if name:\n",
    "            article_dict[name] = content\n",
    "    return article_dict\n",
    "            \n",
    "    \n",
    "    "
   ]
  },
  {
   "cell_type": "code",
   "execution_count": 221,
   "id": "470a88f0-42e9-43cd-8755-bde8bb909b58",
   "metadata": {},
   "outputs": [],
   "source": [
    "article_dict = split_article(text)\n",
    "# Example: Print the article names and their first 200 characters\n",
    "# for name, content in article_dict.items():\n",
    "#     print(f\"Article Name: {name}\")\n",
    "#     print(f\"Content Preview: {content[:100]}...\\n\")"
   ]
  },
  {
   "cell_type": "code",
   "execution_count": 223,
   "id": "ce604758-4580-40fa-9a06-24f30e34158a",
   "metadata": {},
   "outputs": [
    {
     "name": "stdout",
     "output_type": "stream",
     "text": [
      "Term-document matrix:\n",
      "\n",
      "[[0 0 0 ... 0 0 0]\n",
      " [1 0 0 ... 1 0 0]\n",
      " [0 0 0 ... 0 0 0]\n",
      " ...\n",
      " [0 0 0 ... 0 0 0]\n",
      " [0 0 0 ... 0 0 0]\n",
      " [0 0 0 ... 0 0 0]]\n"
     ]
    }
   ],
   "source": [
    "from sklearn.feature_extraction.text import CountVectorizer\n",
    "import numpy as np\n",
    "documents, names =  list(article_dict.values()), list(article_dict.keys())\n",
    "cv = CountVectorizer(lowercase=True)\n",
    "dense_matrix = cv.fit_transform(documents).T.todense()\n",
    "print(\"Term-document matrix:\\n\")\n",
    "print(dense_matrix)"
   ]
  },
  {
   "cell_type": "code",
   "execution_count": 225,
   "id": "fe8876de-6814-46ff-b7c6-e43bbf391cb8",
   "metadata": {},
   "outputs": [],
   "source": [
    "t2i = cv.vocabulary_  # shorter notation: t2i = term-to-index"
   ]
  },
  {
   "cell_type": "code",
   "execution_count": 241,
   "id": "ef92992e-831b-483f-933f-10198a3d2a58",
   "metadata": {},
   "outputs": [
    {
     "name": "stdin",
     "output_type": "stream",
     "text": [
      "enter a query Lincoln\n"
     ]
    }
   ],
   "source": [
    "query = input(\"enter a query\").lower()"
   ]
  },
  {
   "cell_type": "code",
   "execution_count": 243,
   "id": "e65e16d4-2e44-40eb-abb1-280c702a39f4",
   "metadata": {},
   "outputs": [
    {
     "name": "stdout",
     "output_type": "stream",
     "text": [
      "[[  0   0   0   0   0   0 172   0   0   1   0   0   0   0   0   0   0   0\n",
      "    0   0   0   0   0   0   0   0   0   0   0   0   0   0   0   0   0   0\n",
      "    0   1   0   0   0   0   0   0   0   0   0   0   0   0   0   0   0   0\n",
      "    0   0   0   0   0   0   0   0   0   0   0   0   0   0   0   0   0   0\n",
      "    0   0   0   0   0   0   0   0   0   0   0   0   0   0   0   0   0   0\n",
      "    2   1   0   0   0   0   1   0   0   0   0   0   0   0   0   0   0   0\n",
      "    0   0   0   0   0   0   0   0   0   0   0   0   0   0   0   0   0   0\n",
      "    0   0   0   0   0   0   0   0   0   0   0   0   0   0   0   0   0  68\n",
      "    0   0   1   0   0   0   0   0   0   0   0   0   0   0   0   0   0   0\n",
      "    0   0   0   0   0   0   0   0   0   0   0   0   0   0   0   0   0   0\n",
      "    0   0   0   0   0   0   0   0   0   0   0   0   0   0   0   0   0   0\n",
      "    0   0   0   0   0   0   0   0   0   0   0   0   0   0   1   4   0   0\n",
      "    1   0   0   0   0   1   0   0   0   0   0   0   0   0   0   0   0   0\n",
      "    0   0   0   0   0   0   0   0   0   0   0   0   0   0   0   0   0   0\n",
      "    0   0   0   0   0   0   0   0   0   0   0   0   0   3   0   0   0   0\n",
      "    0   0   0   0   0   0   0   0   0   0   0   0   0   0   0   0   0   0\n",
      "    0   0   0   0   0   0   0   0   0   0   0   0   0   0   0   0   0   2\n",
      "    0   0   0   0   0   0   0   0   0   0   0   0   0   0   0   0   0   0\n",
      "    0   1   0   0   0   2   0   0   0   0   0   0   0   0   0   0   0   0\n",
      "    0   0   0   0   0   0   0   0   0   0   0   0   0   0   0   0   0   0\n",
      "    0   1   0   0   0   0   0   0   0   0   0   0   0   0   0   0   0   0\n",
      "    0   0   0   0   0   0   0   0   0   0   0   0   0   0   0   3   0   0\n",
      "    0   0   0   0   0   0   0   0   0   0   0   0   0   0   0   0   0   0\n",
      "    0   0   0   0   0   0   0   0   0   0   0   0   0   0   0   0   0   0\n",
      "    0   0   0   0   0   0   0   0   0   0   0   0   0   0   0   0   0   0\n",
      "    0   0   0   0   0   0   0   2   0   1   0   0   0   0   0   0   0   0\n",
      "    0   0   0   0   0   0   0   0   0   0   0   0   0   0   0   0   0   0\n",
      "    0   0   0   1   0   0   0   0   0   0   0   0   0   0   0   0   0   0\n",
      "    0   0   0   0   0   0   0   0   0   0   0   0   0   0   0   2   0   0\n",
      "    0   0   0   0   0   0   0   0   0   0   0   0   0  10   0   0   0   0\n",
      "    0   0   0   0   0   1   0   0   0   0   0   0   0   0   0   0   0   0\n",
      "    0   0   0   0   0   0   0   0   0   0   0   0   0   0   0   0   0   0\n",
      "    0   0   0   0   0   0   0   0   0   0   0   0   0   0   0   0   0   0\n",
      "    0   0   0   0   0   0   0   0   0   0   0   0   0   0   0   0   0   0\n",
      "    0   0   0   0   0   0   0   0   0   0   0   0   0   0   0   0   0   0\n",
      "    0   0   0   0   0   0   0   0   0   0   0   0   0   1   0   0   0   0\n",
      "    0   0   0   0   0   0   0   0   0   0   0   0   0   0   0   0   0   0\n",
      "    0   0   0   0   0   0   0   0   0   0   0   0   0   0   2   0   0   0\n",
      "    0   0   0   0   0   0   0   0   0   3   0   0   0   0   0   0   0   0\n",
      "    0   0   0   0   0   0   0   0   0   0   0   0   0   0   0   0   0   0\n",
      "    0   2   0   0   0   0   0   0   0   0   0   0   0   0   0   0   0   0\n",
      "    1   0   0   0   0   0   0   0   0   0   0   0   0   0   0   0   0   0\n",
      "    0   0   0   1   0   0   0   0   0   0   0   0   0   0   0   0   0   0\n",
      "    0   0   0   0   0   0   0   0   0   0   0   0   0   0   0   0   0   0\n",
      "    0   0   1   0   0   0   0   0   0   0   0   0   0   0   0   0   0   0\n",
      "    0   0   0   0   0   0   0   0   0   0   0   0   0   0   0   0   0   0\n",
      "    0   0   0   0   0   0   0   0   0   0   0   0   0   0   0   0   0   0\n",
      "    0   0   0   0   0   0   2   0   0   0   0   0   0   0   0   0   0   0\n",
      "    0   0   0   0   0   0   0   0   1   0   0   0   0   0   0   0   0   0\n",
      "    0   0   0   0   0   0   0   1   0   0   0   0   0   0   0   0   0   0\n",
      "    0   0   0   0   0   0   0   0   0   0   0   0   0   0   0   0   0   0\n",
      "    0   0   0   1   0   0   0   0   0   0   0   0   1   0   0   0   0   0\n",
      "    0   0   0   0   0   0   0   2   0   0   0   1   0   0   0   0   0   0\n",
      "    0   0   0   0   0   0   0   0   0   0   0   0   0   0   0   0   0   0\n",
      "    0   0   0   0   0   0   0   0   0   0   0   0   0   0   0   0   0   0\n",
      "    0   0   0   0   0   0   0   0   0   0]]\n"
     ]
    }
   ],
   "source": [
    "try:\n",
    "    print(dense_matrix[t2i[query]])\n",
    "except:\n",
    "    print(\"the query is not valid\")"
   ]
  },
  {
   "cell_type": "code",
   "execution_count": 245,
   "id": "7a953327-571b-49d3-80a7-ce04c66fdb96",
   "metadata": {},
   "outputs": [],
   "source": [
    "hits_list = np.array(dense_matrix[t2i[query]])[0]"
   ]
  },
  {
   "cell_type": "code",
   "execution_count": 247,
   "id": "afbe5935-e8ea-4341-9e7f-c8f1380d7ece",
   "metadata": {},
   "outputs": [
    {
     "name": "stdout",
     "output_type": "stream",
     "text": [
      "\u001b[1m\u001b[94mLINCOLN\u001b[0m occurs in article with name: \u001b[1mAbraham Lincoln\u001b[0m for 172 times\n",
      "\u001b[1mFirst 100 characters of the article:\u001b[0m Abraham Lincoln (February 12, 1809 – April 15, 1865) was an American statesman and lawyer who served\n",
      "\u001b[1m\u001b[94mLINCOLN\u001b[0m occurs in article with name: \u001b[1mAcademy Award for Best Production Design\u001b[0m for 1 times\n",
      "\u001b[1mFirst 100 characters of the article:\u001b[0m The Academy Award for Best Production Design recognizes achievement for art direction in film. The c\n",
      "\u001b[1m\u001b[94mLINCOLN\u001b[0m occurs in article with name: \u001b[1mAlaska\u001b[0m for 1 times\n",
      "\u001b[1mFirst 100 characters of the article:\u001b[0m Alaska ( ) ( ; ; ) is a U.S. state located in the northwest extremity of North America. The Canadian\n",
      "\u001b[1m\u001b[94mLINCOLN\u001b[0m occurs in article with name: \u001b[1mAlbert Einstein\u001b[0m for 2 times\n",
      "\u001b[1mFirst 100 characters of the article:\u001b[0m Albert Einstein ( ; ; 14 March 1879 – 18 April 1955) was a German-born theoretical physicist a pivot\n",
      "\u001b[1m\u001b[94mLINCOLN\u001b[0m occurs in article with name: \u001b[1mAfghanistan\u001b[0m for 1 times\n",
      "\u001b[1mFirst 100 characters of the article:\u001b[0m Afghanistan ( ; Pashto/Dari: , Pashto: Afġānistān , Dari: Afġānestān ), officially the Islamic Repub\n",
      "\u001b[1m\u001b[94mLINCOLN\u001b[0m occurs in article with name: \u001b[1mAmateur astronomy\u001b[0m for 1 times\n",
      "\u001b[1mFirst 100 characters of the article:\u001b[0m Amateur astronomy is a hobby whose participants enjoy observing or imaging celestial objects in the \n",
      "\u001b[1m\u001b[94mLINCOLN\u001b[0m occurs in article with name: \u001b[1mAmerican Civil War\u001b[0m for 68 times\n",
      "\u001b[1mFirst 100 characters of the article:\u001b[0m The American Civil War (also known by other names) was a war fought in the United States (U.S.) from\n",
      "\u001b[1m\u001b[94mLINCOLN\u001b[0m occurs in article with name: \u001b[1mAmerican Film Institute\u001b[0m for 1 times\n",
      "\u001b[1mFirst 100 characters of the article:\u001b[0m The American Film Institute (AFI) is an American film organization that educates filmmakers and hono\n",
      "\u001b[1m\u001b[94mLINCOLN\u001b[0m occurs in article with name: \u001b[1mApril 12\u001b[0m for 1 times\n",
      "\u001b[1mFirst 100 characters of the article:\u001b[0m Events\n",
      "238 - Gordian II loses the Battle of Carthage against the Numidian forces loyal to Maximinus \n",
      "\u001b[1m\u001b[94mLINCOLN\u001b[0m occurs in article with name: \u001b[1mApril 15\u001b[0m for 4 times\n",
      "\u001b[1mFirst 100 characters of the article:\u001b[0m Events\n",
      "769 - The Lateran Council condemned the Council of Hieria and anathematized its iconoclastic \n",
      "\u001b[1m\u001b[94mLINCOLN\u001b[0m occurs in article with name: \u001b[1mAugust 27\u001b[0m for 1 times\n",
      "\u001b[1mFirst 100 characters of the article:\u001b[0m Events\n",
      "410 - The sacking of Rome by the Visigoths ends after three days.\n",
      "1172 - Henry the Young King\n",
      "\u001b[1m\u001b[94mLINCOLN\u001b[0m occurs in article with name: \u001b[1mAugust 6\u001b[0m for 1 times\n",
      "\u001b[1mFirst 100 characters of the article:\u001b[0m Events\n",
      "135 - The Roman Empire lays siege to Betar, effectively ending the Bar Kokhba revolt.\n",
      "1284 - \n",
      "\u001b[1m\u001b[94mLINCOLN\u001b[0m occurs in article with name: \u001b[1mAbner Doubleday\u001b[0m for 3 times\n",
      "\u001b[1mFirst 100 characters of the article:\u001b[0m Abner Doubleday (June 26, 1819 January 26, 1893) was a career United States Army officer and Union 2\n",
      "\u001b[1m\u001b[94mLINCOLN\u001b[0m occurs in article with name: \u001b[1mAlternate history\u001b[0m for 2 times\n",
      "\u001b[1mFirst 100 characters of the article:\u001b[0m Alternate history or alternative history (Commonwealth English), sometimes abbreviated as AH, is a g\n",
      "\u001b[1m\u001b[94mLINCOLN\u001b[0m occurs in article with name: \u001b[1mAugust 1\u001b[0m for 1 times\n",
      "\u001b[1mFirst 100 characters of the article:\u001b[0m Events\n",
      "30 BC - Octavian (later known as Augustus) enters Alexandria, Egypt, bringing it under the co\n",
      "\u001b[1m\u001b[94mLINCOLN\u001b[0m occurs in article with name: \u001b[1mApril 26\u001b[0m for 2 times\n",
      "\u001b[1mFirst 100 characters of the article:\u001b[0m Events\n",
      "1336 - Francesco Petrarca (Petrarch) ascends Mont Ventoux.\n",
      "1478 - The Pazzi family attack Lor\n",
      "\u001b[1m\u001b[94mLINCOLN\u001b[0m occurs in article with name: \u001b[1mAugust 7\u001b[0m for 1 times\n",
      "\u001b[1mFirst 100 characters of the article:\u001b[0m This day marks the approximate midpoint of summer in the Northern Hemisphere and of winter in the So\n",
      "\u001b[1m\u001b[94mLINCOLN\u001b[0m occurs in article with name: \u001b[1mAmos Bronson Alcott\u001b[0m for 3 times\n",
      "\u001b[1mFirst 100 characters of the article:\u001b[0m Amos Bronson Alcott ( ; November 29, 1799 March 4, 1888) was an American teacher, writer, philosophe\n",
      "\u001b[1m\u001b[94mLINCOLN\u001b[0m occurs in article with name: \u001b[1mAugust 25\u001b[0m for 2 times\n",
      "\u001b[1mFirst 100 characters of the article:\u001b[0m Events\n",
      "766 - Emperor Constantine V humiliates nineteen high-ranking officials, after discovering a p\n",
      "\u001b[1m\u001b[94mLINCOLN\u001b[0m occurs in article with name: \u001b[1mAgate\u001b[0m for 1 times\n",
      "\u001b[1mFirst 100 characters of the article:\u001b[0m Agate is a rock consisting primarily of cryptocrystalline silica, chiefly chalcedony, alternating wi\n",
      "\u001b[1m\u001b[94mLINCOLN\u001b[0m occurs in article with name: \u001b[1mAilanthus\u001b[0m for 1 times\n",
      "\u001b[1mFirst 100 characters of the article:\u001b[0m Ailanthus ( ; derived from ailanto, an Ambonese word probably meaning \"tree of the gods\" or \"tree of\n",
      "\u001b[1m\u001b[94mLINCOLN\u001b[0m occurs in article with name: \u001b[1mAlexander\u001b[0m for 2 times\n",
      "\u001b[1mFirst 100 characters of the article:\u001b[0m Alexander is a common male given name, and a less common surname. The most prominent bearer of the n\n",
      "\u001b[1m\u001b[94mLINCOLN\u001b[0m occurs in article with name: \u001b[1mAndrew Johnson\u001b[0m for 10 times\n",
      "\u001b[1mFirst 100 characters of the article:\u001b[0m Andrew Johnson (December 29, 1808 July 31, 1875) was the 17th President of the United States, servin\n",
      "\u001b[1m\u001b[94mLINCOLN\u001b[0m occurs in article with name: \u001b[1mApril 28\u001b[0m for 1 times\n",
      "\u001b[1mFirst 100 characters of the article:\u001b[0m Events\n",
      "224 - The Battle of Hormozdgān is fought. Ardashir I defeats and kills Artabanus V effectivel\n",
      "\u001b[1m\u001b[94mLINCOLN\u001b[0m occurs in article with name: \u001b[1mApril 9\u001b[0m for 1 times\n",
      "\u001b[1mFirst 100 characters of the article:\u001b[0m Events\n",
      "190 - Dong Zhuo has his troops evacuate the capital Luoyang and burn it to the ground.\n",
      "475 - \n",
      "\u001b[1m\u001b[94mLINCOLN\u001b[0m occurs in article with name: \u001b[1mApril 14\u001b[0m for 2 times\n",
      "\u001b[1mFirst 100 characters of the article:\u001b[0m Events\n",
      "43 BC - Battle of Forum Gallorum: Mark Antony, besieging Caesar's assassin Decimus Brutus in \n",
      "\u001b[1m\u001b[94mLINCOLN\u001b[0m occurs in article with name: \u001b[1mArt Deco\u001b[0m for 3 times\n",
      "\u001b[1mFirst 100 characters of the article:\u001b[0m Art Deco, sometimes referred to as Deco, is a style of visual arts, architecture and design that fir\n",
      "\u001b[1m\u001b[94mLINCOLN\u001b[0m occurs in article with name: \u001b[1mArkansas\u001b[0m for 2 times\n",
      "\u001b[1mFirst 100 characters of the article:\u001b[0m Arkansas ( ) is a state in the southern region of the United States, home to over 3 million people a\n",
      "\u001b[1m\u001b[94mLINCOLN\u001b[0m occurs in article with name: \u001b[1mAmerican Civil Liberties Union\u001b[0m for 1 times\n",
      "\u001b[1mFirst 100 characters of the article:\u001b[0m The American Civil Liberties Union (ACLU) is a nonprofit organization whose stated mission is \"to de\n",
      "\u001b[1m\u001b[94mLINCOLN\u001b[0m occurs in article with name: \u001b[1mAugust 5\u001b[0m for 1 times\n",
      "\u001b[1mFirst 100 characters of the article:\u001b[0m Events\n",
      "AD 25 - Guangwu claims the throne as Chinese emperor, restoring the Han dynasty after the col\n",
      "\u001b[1m\u001b[94mLINCOLN\u001b[0m occurs in article with name: \u001b[1mAutomatic number announcement circuit\u001b[0m for 1 times\n",
      "\u001b[1mFirst 100 characters of the article:\u001b[0m An automatic number announcement circuit (ANAC) is a component of a central office of a telephone co\n",
      "\u001b[1m\u001b[94mLINCOLN\u001b[0m occurs in article with name: \u001b[1mAfrican Americans\u001b[0m for 2 times\n",
      "\u001b[1mFirst 100 characters of the article:\u001b[0m African Americans (also referred to as Black Americans or Afro-Americans) are an ethnic group of Ame\n",
      "\u001b[1m\u001b[94mLINCOLN\u001b[0m occurs in article with name: \u001b[1mApril 20\u001b[0m for 1 times\n",
      "\u001b[1mFirst 100 characters of the article:\u001b[0m Events\n",
      "1303 - The Sapienza University of Rome is instituted by Pope Boniface VIII.\n",
      "1453 - Three Geno\n",
      "\u001b[1m\u001b[94mLINCOLN\u001b[0m occurs in article with name: \u001b[1mApril 8\u001b[0m for 1 times\n",
      "\u001b[1mFirst 100 characters of the article:\u001b[0m Events\n",
      "217 - Roman Emperor Caracalla is assassinated. He is succeeded by his Praetorian Guard prefec\n",
      "\u001b[1m\u001b[94mLINCOLN\u001b[0m occurs in article with name: \u001b[1mArthur Miller\u001b[0m for 1 times\n",
      "\u001b[1mFirst 100 characters of the article:\u001b[0m Arthur Asher Miller (October 17, 1915 – February 10, 2005) was an American playwright, essayist, and\n",
      "\u001b[1m\u001b[94mLINCOLN\u001b[0m occurs in article with name: \u001b[1mApril 27\u001b[0m for 1 times\n",
      "\u001b[1mFirst 100 characters of the article:\u001b[0m Events\n",
      "33 BC - Lucius Marcius Philippus, step-brother to the future emperor Augustus, celebrates a t\n",
      "\u001b[1m\u001b[94mLINCOLN\u001b[0m occurs in article with name: \u001b[1mArchbishop of Canterbury\u001b[0m for 2 times\n",
      "\u001b[1mFirst 100 characters of the article:\u001b[0m The Archbishop of Canterbury is the senior bishop and principal leader of the Church of England, the\n",
      "\u001b[1m\u001b[94mLINCOLN\u001b[0m occurs in article with name: \u001b[1mAmerican Football League\u001b[0m for 1 times\n",
      "\u001b[1mFirst 100 characters of the article:\u001b[0m The American Football League (AFL) was a major professional American football league that operated f\n"
     ]
    }
   ],
   "source": [
    "for i, nhits in enumerate(hits_list):\n",
    "    if nhits >= 1:\n",
    "        print(f\"\\033[1m\\033[94m{query.upper()}\\033[0m occurs in article with name: \\033[1m{names[i]}\\033[0m for {nhits} times\")\n",
    "        print(f\"\\033[1mFirst 100 characters of the article:\\033[0m {documents[i][:100]}\")\n"
   ]
  },
  {
   "cell_type": "code",
   "execution_count": null,
   "id": "97c39928-9dee-414a-9c9a-9a5b6c51b3b9",
   "metadata": {},
   "outputs": [],
   "source": []
  }
 ],
 "metadata": {
  "kernelspec": {
   "display_name": "Python 3 (ipykernel)",
   "language": "python",
   "name": "python3"
  },
  "language_info": {
   "codemirror_mode": {
    "name": "ipython",
    "version": 3
   },
   "file_extension": ".py",
   "mimetype": "text/x-python",
   "name": "python",
   "nbconvert_exporter": "python",
   "pygments_lexer": "ipython3",
   "version": "3.12.4"
  }
 },
 "nbformat": 4,
 "nbformat_minor": 5
}
